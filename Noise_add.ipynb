{
 "cells": [
  {
   "cell_type": "code",
   "execution_count": 1,
   "metadata": {},
   "outputs": [],
   "source": [
    "import math   \n",
    "import numpy as np \n",
    "import librosa\n",
    "import matplotlib.pyplot as plt\n",
    "from scipy.io.wavfile import write\n"
   ]
  },
  {
   "cell_type": "code",
   "execution_count": 2,
   "metadata": {},
   "outputs": [],
   "source": [
    "def get_white_noise(signal,SNR) :\n",
    "    #RMS value of signal\n",
    "    RMS_s=math.sqrt(np.mean(signal**2))\n",
    "    #RMS values of noise\n",
    "    RMS_n=math.sqrt(RMS_s**2/(pow(10,SNR/10)))\n",
    "    #Additive white gausian noise. Thereore mean=0\n",
    "    #Because sample length is large (typically > 40000)\n",
    "    #we can use the population formula for standard daviation.\n",
    "    #because mean=0 STD=RMS\n",
    "    STD_n=RMS_n\n",
    "    noise=np.random.normal(0, STD_n, signal.shape[0])\n",
    "    return noise\n",
    "\n",
    "def get_noise_from_sound(signal,noise,SNR):\n",
    "    RMS_s=math.sqrt(np.mean(signal**2))\n",
    "    #required RMS of noise\n",
    "    RMS_n=math.sqrt(RMS_s**2/(pow(10,SNR/10)))\n",
    "    \n",
    "    #current RMS of noise\n",
    "    RMS_n_current=math.sqrt(np.mean(noise**2))\n",
    "    noise=noise*(RMS_n/RMS_n_current)\n",
    "    \n",
    "    return noise"
   ]
  },
  {
   "cell_type": "code",
   "execution_count": 3,
   "metadata": {},
   "outputs": [],
   "source": [
    "noise_f,fs=librosa.load('/home/thirumalakumar/Desktop/fan.wav')\n",
    "#noise_fan=np.interp(noise_fan, (noise_fan.min(), noise_fan.max()), (-1, 1))\n",
    "\n",
    "noise_b,fs=librosa.load('/home/thirumalakumar/Desktop/bus.wav')\n",
    "#noise_bus=np.interp(noise_bus, (noise_bus.min(), noise_bus.max()), (-1, 1))\n",
    "\n",
    "noise_r,fs=librosa.load('/home/thirumalakumar/Desktop/rain.wav')\n",
    "#noise_rain=np.interp(noise_rain, (noise_rain.min(), noise_rain.max()), (-1, 1))\n",
    "\n"
   ]
  },
  {
   "cell_type": "code",
   "execution_count": 4,
   "metadata": {},
   "outputs": [],
   "source": [
    "from pathlib import Path\n"
   ]
  },
  {
   "cell_type": "code",
   "execution_count": 5,
   "metadata": {},
   "outputs": [],
   "source": [
    "yes_count=252\n",
    "no_count=230\n",
    "basepath = Path('/home/thirumalakumar/Desktop/Testing/')\n",
    "files_in_basepath = basepath.iterdir()\n",
    "for item in files_in_basepath:\n",
    "    if item.is_file():\n",
    "        signal,fs=librosa.load(item)\n",
    "        signal=np.interp(signal, (signal.min(), signal.max()), (-1, 1))\n",
    "\n",
    "        white_noise=get_white_noise(signal,SNR=10)\n",
    "        \n",
    "        if(len(noise_f)>len(signal)):\n",
    "            noise_fan=noise_f[0:len(signal)]\n",
    "            noise_fan=get_noise_from_sound(signal,noise_fan,SNR=10)\n",
    "            \n",
    "        if(len(noise_b)>len(signal)):\n",
    "            noise_bus=noise_b[0:len(signal)]\n",
    "            noise_bus=get_noise_from_sound(signal,noise_bus,SNR=10)\n",
    "\n",
    "\n",
    "        if(len(noise_r)>len(signal)):\n",
    "            noise_rain=noise_r[0:len(signal)]\n",
    "            noise_rain=get_noise_from_sound(signal,noise_rain,SNR=10)\n",
    "\n",
    "        \n",
    "        \n",
    "        if item.name[0]=='y':\n",
    "            \n",
    "            noise_signal=signal+white_noise\n",
    "            write(\"/home/thirumalakumar/Desktop/Final_Noise/yes_%s.wav\"%str(yes_count),fs,noise_signal)\n",
    "            yes_count+=1\n",
    "            noise_signal=signal+noise_fan\n",
    "            write(\"/home/thirumalakumar/Desktop/Final_Noise/yes_%s.wav\"%str(yes_count),fs,noise_signal)\n",
    "            yes_count+=1\n",
    "            noise_signal=signal+noise_bus\n",
    "            write(\"/home/thirumalakumar/Desktop/Final_Noise/yes_%s.wav\"%str(yes_count),fs,noise_signal)\n",
    "            yes_count+=1\n",
    "            noise_signal=signal+noise_rain\n",
    "            write(\"/home/thirumalakumar/Desktop/Final_Noise/yes_%s.wav\"%str(yes_count),fs,noise_signal)\n",
    "            yes_count+=1\n",
    "\n",
    "        if item.name[0]=='n':\n",
    "            str(no_count)\n",
    "            noise_signal=signal+white_noise\n",
    "            write(\"/home/thirumalakumar/Desktop/Final_Noise/no_%s.wav\"%str(no_count),fs,noise_signal)\n",
    "            no_count+=1\n",
    "            noise_signal=signal+noise_fan\n",
    "            write(\"/home/thirumalakumar/Desktop/Final_Noise/no_%s.wav\"%str(no_count),fs,noise_signal)\n",
    "            no_count+=1    \n",
    "            noise_signal=signal+noise_bus\n",
    "            write(\"/home/thirumalakumar/Desktop/Final_Noise/no_%s.wav\"%str(no_count),fs,noise_signal)\n",
    "            no_count+=1\n",
    "            noise_signal=signal+noise_rain\n",
    "            write(\"/home/thirumalakumar/Desktop/Final_Noise/no_%s.wav\"%str(no_count),fs,noise_signal)\n",
    "            no_count+=1\n",
    "            \n",
    "\n",
    "            \n",
    "            \n",
    "            \n",
    "        "
   ]
  },
  {
   "cell_type": "code",
   "execution_count": null,
   "metadata": {},
   "outputs": [],
   "source": []
  },
  {
   "cell_type": "code",
   "execution_count": null,
   "metadata": {},
   "outputs": [],
   "source": []
  },
  {
   "cell_type": "code",
   "execution_count": null,
   "metadata": {},
   "outputs": [],
   "source": []
  }
 ],
 "metadata": {
  "kernelspec": {
   "display_name": "Python 3",
   "language": "python",
   "name": "python3"
  },
  "language_info": {
   "codemirror_mode": {
    "name": "ipython",
    "version": 3
   },
   "file_extension": ".py",
   "mimetype": "text/x-python",
   "name": "python",
   "nbconvert_exporter": "python",
   "pygments_lexer": "ipython3",
   "version": "3.7.6"
  }
 },
 "nbformat": 4,
 "nbformat_minor": 4
}
